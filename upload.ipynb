{
 "cells": [
  {
   "cell_type": "markdown",
   "metadata": {},
   "source": [
    "# Pytorch Lightning"
   ]
  },
  {
   "cell_type": "markdown",
   "metadata": {},
   "source": [
    "## Model Upload"
   ]
  },
  {
   "cell_type": "code",
   "execution_count": 4,
   "metadata": {},
   "outputs": [
    {
     "name": "stdout",
     "output_type": "stream",
     "text": [
      "Pushing to hub\n"
     ]
    }
   ],
   "source": [
    "# Import the model you want to upload or checkpoint class\n",
    "# This is just a dummy class\n",
    "from dummy_class import DummyModelForLightning\n",
    "\n",
    "# Pass the checkpoint path to the method\n",
    "model = DummyModelForLightning.load_from_checkpoint(\"./\")\n",
    "\n",
    "# pytorch lightning model has huggingface model as member variable\n",
    "# Pass the huggingface repository address to the method\n",
    "model.model.push_to_hub(\"BMILab/dummy_repo\")"
   ]
  },
  {
   "cell_type": "markdown",
   "metadata": {},
   "source": [
    "## Tokenizer Upload"
   ]
  },
  {
   "cell_type": "code",
   "execution_count": 2,
   "metadata": {},
   "outputs": [],
   "source": [
    "from transformers import AutoTokenizerFast\n",
    "\n",
    "# Pass the vocab.txt path to the method\n",
    "# The path is not the path of the file, but the path of the folder containing vocab.txt\n",
    "tokenizer = AutoTokenizerFast.from_pretrained(\"./\")\n",
    "\n",
    "# Pass the huggingface repository address to the method\n",
    "tokenizer.push_to_hub(\"BMILab/dummy_repo\")"
   ]
  },
  {
   "cell_type": "markdown",
   "metadata": {},
   "source": [
    "# HuggingFace"
   ]
  },
  {
   "cell_type": "markdown",
   "metadata": {},
   "source": [
    "## Model Upload"
   ]
  },
  {
   "cell_type": "code",
   "execution_count": 5,
   "metadata": {},
   "outputs": [
    {
     "name": "stdout",
     "output_type": "stream",
     "text": [
      "Pushing to hub\n"
     ]
    }
   ],
   "source": [
    "# Import the model you want to upload\n",
    "# This is just a dummy class\n",
    "from dummy_class import DummyModelForHuggingFace\n",
    "\n",
    "# Pass the checkpoint path to the method\n",
    "model = DummyModelForHuggingFace()\n",
    "\n",
    "# pytorch lightning model has huggingface model as member variable\n",
    "# Pass the huggingface repository address to the method\n",
    "model.push_to_hub(\"BMILab/dummy_repo\")"
   ]
  },
  {
   "cell_type": "markdown",
   "metadata": {},
   "source": [
    "## Tokenizer Upload"
   ]
  },
  {
   "cell_type": "code",
   "execution_count": null,
   "metadata": {},
   "outputs": [],
   "source": [
    "from transformers import AutoTokenizerFast\n",
    "\n",
    "# Pass the vocab.txt path to the method\n",
    "# The path is not the path of the file, but the path of the folder containing vocab.txt\n",
    "tokenizer = AutoTokenizerFast.from_pretrained(\"./\")\n",
    "\n",
    "# Pass the huggingface repository address to the method\n",
    "tokenizer.push_to_hub(\"BMILab/dummy_repo\")"
   ]
  }
 ],
 "metadata": {
  "kernelspec": {
   "display_name": "base",
   "language": "python",
   "name": "python3"
  },
  "language_info": {
   "codemirror_mode": {
    "name": "ipython",
    "version": 3
   },
   "file_extension": ".py",
   "mimetype": "text/x-python",
   "name": "python",
   "nbconvert_exporter": "python",
   "pygments_lexer": "ipython3",
   "version": "3.9.10"
  },
  "orig_nbformat": 4
 },
 "nbformat": 4,
 "nbformat_minor": 2
}
